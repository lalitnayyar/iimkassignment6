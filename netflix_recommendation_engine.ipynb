{
 "cells": [
  {
   "cell_type": "markdown",
   "metadata": {},
   "source": [
    "# Assignment: Capstone Assignment - Section A\n",
    "**Course:** IIMK's Professional Certificate in Data Science and Artificial Intelligence for Managers  \n",
    "**Student Name:** Lalit Nayyar  \n",
    "**Email:** lalitnayyar@gmail.com  \n",
    "\n",
    "## Project 1: Netflix Recommendation Engine\n"
   ]
  },
  {
   "cell_type": "markdown",
   "metadata": {},
   "source": [
    "### 1. Market Needs\n",
    "(Describe the market need for personalized content recommendation in streaming services like Netflix.)"
   ]
  },
  {
   "cell_type": "markdown",
   "metadata": {},
   "source": [
    "### 2. AI Project Selection\n",
    "(Justification for selecting Netflix Recommendation Engine as the AI project.)"
   ]
  },
  {
   "cell_type": "markdown",
   "metadata": {},
   "source": [
    "### 3. Problem Statement\n",
    "(Define the problem: How to recommend relevant movies to users to increase engagement and satisfaction.)"
   ]
  },
  {
   "cell_type": "markdown",
   "metadata": {},
   "source": [
    "### 4. Exploratory Data Analysis (EDA)\n"
   ]
  },
  {
   "cell_type": "code",
   "metadata": {},
   "source": [
    "# Install and import Kaggle API for dataset download\n",
    "!pip install kaggle --quiet\n",
    "import os\n",
    "os.environ['KAGGLE_USERNAME'] = 'YOUR_KAGGLE_USERNAME'  # Replace with your Kaggle username\n",
    "os.environ['KAGGLE_KEY'] = 'YOUR_KAGGLE_KEY'            # Replace with your Kaggle API key\n",
    "# Download MovieLens dataset\n",
    "!kaggle datasets download -d grouplens/movielens-20m-dataset --unzip -p ./data\n"
   ],
   "execution_count": null,
   "outputs": []
  },
  {
   "cell_type": "code",
   "metadata": {},
   "source": [
    "# Import necessary libraries\n",
    "import pandas as pd\n",
    "import matplotlib.pyplot as plt\n",
    "import seaborn as sns\n",
    "# Load the ratings data\n",
    "ratings = pd.read_csv('./data/rating.csv')\n",
    "ratings.head()"
   ],
   "execution_count": null,
   "outputs": []
  },
  {
   "cell_type": "code",
   "metadata": {},
   "source": [
    "# EDA: Rating distribution\n",
    "plt.figure(figsize=(8,5))\n",
    "sns.histplot(ratings['rating'], bins=10, kde=True)\n",
    "plt.title('Distribution of Movie Ratings')\n",
    "plt.xlabel('Rating')\n",
    "plt.ylabel('Count')\n",
    "plt.show()"
   ],
   "execution_count": null,
   "outputs": []
  },
  {
   "cell_type": "markdown",
   "metadata": {},
   "source": [
    "### 5. Machine Learning Model\n",
    "(Implement a simple collaborative filtering model using Surprise or sklearn.)"
   ]
  },
  {
   "cell_type": "code",
   "metadata": {},
   "source": [
    "# Example: Collaborative Filtering with Surprise\n",
    "!pip install scikit-surprise --quiet\n",
    "from surprise import Dataset, Reader, SVD\n",
    "from surprise.model_selection import cross_validate\n",
    "reader = Reader(rating_scale=(0.5, 5.0))\n",
    "data = Dataset.load_from_df(ratings[['userId', 'movieId', 'rating']], reader)\n",
    "algo = SVD()\n",
    "cross_validate(algo, data, measures=['RMSE', 'MAE'], cv=3, verbose=True)"
   ],
   "execution_count": null,
   "outputs": []
  },
  {
   "cell_type": "markdown",
   "metadata": {},
   "source": [
    "### 6. Data Source\n",
    "[MovieLens 20M Dataset on Kaggle](https://www.kaggle.com/datasets/grouplens/movielens-20m-dataset)"
   ]
  },
  {
   "cell_type": "markdown",
   "metadata": {},
   "source": [
    "### 7. Visual Insight\n",
    "(Charts: e.g., most rated movies, user activity distribution, etc.)"
   ]
  },
  {
   "cell_type": "code",
   "metadata": {},
   "source": [
    "# Most rated movies\n",
    "top_movies = ratings['movieId'].value_counts().head(10)\n",
    "plt.figure(figsize=(10,5))\n",
    "sns.barplot(x=top_movies.index, y=top_movies.values)\n",
    "plt.title('Top 10 Most Rated Movies')\n",
    "plt.xlabel('Movie ID')\n",
    "plt.ylabel('Number of Ratings')\n",
    "plt.show()"
   ],
   "execution_count": null,
   "outputs": []
  },
  {
   "cell_type": "markdown",
   "metadata": {},
   "source": [
    "### 8. Dataset Structure + Conclusion\n",
    "(Describe columns, data types, and key findings from EDA and modeling.)"
   ]
  },
  {
   "cell_type": "markdown",
   "metadata": {},
   "source": [
    "### 9. Market Analysis & Expected Impact\n",
    "(Discuss competition, user base, growth, and impact of better recommendations.)"
   ]
  },
  {
   "cell_type": "markdown",
   "metadata": {},
   "source": [
    "### 10. Business Impact\n",
    "(How improved recommendations drive engagement, retention, and revenue.)"
   ]
  },
  {
   "cell_type": "markdown",
   "metadata": {},
   "source": [
    "### 11. Structure, Presentation & Use of Sources\n",
    "(Professional presentation, citations, and sources.)"
   ]
  },
  {
   "cell_type": "markdown",
   "metadata": {},
   "source": [
    "### 12. Final Suggestions\n",
    "(Future improvements, scalability, and ethical considerations.)"
   ]
  }
 ],
 "metadata": {
  "kernelspec": {
   "display_name": "Python 3",
   "language": "python",
   "name": "python3"
  },
  "language_info": {
   "name": "python",
   "version": "3.x"
  }
 },
 "nbformat": 4,
 "nbformat_minor": 2
}
