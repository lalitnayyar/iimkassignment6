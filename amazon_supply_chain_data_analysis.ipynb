{
 "cells": [
  {
   "cell_type": "markdown",
   "metadata": {},
   "source": [
    "# Amazon Supply Chain Data Analysis\n",
    "\n",
    "This notebook demonstrates how to download a supply chain dataset from Kaggle, perform exploratory data analysis, and create beautiful visuals relevant to Amazon's supply chain optimization."
   ]
  },
  {
   "cell_type": "code",
   "execution_count": 5,
   "metadata": {},
   "outputs": [
    {
     "name": "stdout",
     "output_type": "stream",
     "text": [
      "403 Client Error: Forbidden for url: https://www.kaggle.com/api/v1/datasets/metadata/stuti24/amazon-supply-chain-dataset\n"
     ]
    }
   ],
   "source": [
    "# Install Kaggle if not already installed\n",
    "!pip install -q kaggle\n",
    "\n",
    "# Download dataset from Kaggle (requires Kaggle API key)\n",
    "# Replace 'your-dataset' with the actual dataset name or URL\n",
    "!kaggle datasets download -d stuti24/amazon-supply-chain-dataset\n",
    "\n"
   ]
  },
  {
   "cell_type": "markdown",
   "metadata": {},
   "source": [
    "##Option 2"
   ]
  },
  {
   "cell_type": "code",
   "execution_count": null,
   "metadata": {},
   "outputs": [],
   "source": [
    "import zipfile\n",
    "import os\n",
    "\n",
    "# Path to your downloaded zip file\n",
    "zip_path = 'amazon-supply-chain-dataset.zip'\n",
    "extract_to = './data'\n",
    "\n",
    "# Create target directory if it doesn't exist\n",
    "os.makedirs(extract_to, exist_ok=True)\n",
    "\n",
    "with zipfile.ZipFile(zip_path, 'r') as zip_ref:\n",
    "    zip_ref.extractall(extract_to)"
   ]
  },
  {
   "cell_type": "code",
   "execution_count": null,
   "metadata": {},
   "outputs": [],
   "source": [
    "import os\n",
    "zip_path = 'amazon-supply-chain-dataset.zip'\n",
    "if os.path.exists(zip_path):\n",
    "    import zipfile\n",
    "    with zipfile.ZipFile(zip_path, 'r') as zip_ref:\n",
    "        zip_ref.extractall('./data')\n",
    "    print(\"Unzipped successfully.\")\n",
    "else:\n",
    "    print(f\"File not found: {zip_path}. Please check your Kaggle download step for errors.\")"
   ]
  },
  {
   "cell_type": "markdown",
   "metadata": {},
   "source": [
    "##move to global supper store dataset\n"
   ]
  },
  {
   "cell_type": "code",
   "execution_count": null,
   "metadata": {},
   "outputs": [],
   "source": [
    "# Install Kaggle if not already installed\n",
    "!pip install -q kaggle\n",
    "!kaggle datasets download -d vivek468/superstore-dataset-final\n",
    "import zipfile\n",
    "with zipfile.ZipFile('superstore-dataset-final.zip', 'r') as zip_ref:\n",
    "    zip_ref.extractall('./data')"
   ]
  },
  {
   "cell_type": "markdown",
   "metadata": {},
   "source": [
    "## Import Libraries and Load Data"
   ]
  },
  {
   "cell_type": "code",
   "execution_count": null,
   "metadata": {},
   "outputs": [],
   "source": [
    "import pandas as pd\n",
    "import matplotlib.pyplot as plt\n",
    "import seaborn as sns\n",
    "import plotly.express as px\n",
    "\n",
    "# Load the main dataset\n",
    "df = pd.read_csv('./data/Amazon_Supply_Chain_Dataset.csv')\n",
    "df.head()"
   ]
  },
  {
   "cell_type": "markdown",
   "metadata": {},
   "source": [
    "## Visual 1: Order Volume Trends (Line Plot)"
   ]
  },
  {
   "cell_type": "code",
   "execution_count": null,
   "metadata": {},
   "outputs": [],
   "source": [
    "df['Order Date'] = pd.to_datetime(df['Order Date'])\n",
    "order_trends = df.groupby(df['Order Date'].dt.to_period('M')).size().reset_index(name='Order Count')\n",
    "order_trends['Order Date'] = order_trends['Order Date'].dt.to_timestamp()\n",
    "plt.figure(figsize=(12,6))\n",
    "sns.lineplot(data=order_trends, x='Order Date', y='Order Count', color='#232f3e')\n",
    "plt.title('Monthly Order Volume Trends')\n",
    "plt.xlabel('Month')\n",
    "plt.ylabel('Order Count')\n",
    "plt.grid(True, linestyle='--', alpha=0.5)\n",
    "plt.show()"
   ]
  },
  {
   "cell_type": "markdown",
   "metadata": {},
   "source": [
    "## Visual 2: Fulfillment Center Distribution (Map)"
   ]
  },
  {
   "cell_type": "code",
   "execution_count": null,
   "metadata": {},
   "outputs": [],
   "source": [
    "# If latitude/longitude columns exist in the data\n",
    "if 'Latitude' in df.columns and 'Longitude' in df.columns:\n",
    "    fig = px.scatter_geo(df, lat='Latitude', lon='Longitude',\n",
    "                        scope='world',\n",
    "                        title='Amazon Fulfillment Center Locations',\n",
    "                        color_discrete_sequence=['#ff9900'])\n",
    "    fig.show()\n",
    "else:\n",
    "    print('Latitude/Longitude columns not found in dataset.')"
   ]
  },
  {
   "cell_type": "markdown",
   "metadata": {},
   "source": [
    "## Visual 3: Delivery Speed Distribution (Histogram)"
   ]
  },
  {
   "cell_type": "code",
   "execution_count": null,
   "metadata": {},
   "outputs": [],
   "source": [
    "if 'Delivery Speed' in df.columns:\n",
    "    plt.figure(figsize=(10,5))\n",
    "    sns.histplot(df['Delivery Speed'], bins=20, color='#ff9900', kde=True)\n",
    "    plt.title('Delivery Speed Distribution')\n",
    "    plt.xlabel('Delivery Speed (days)')\n",
    "    plt.ylabel('Frequency')\n",
    "    plt.show()\n",
    "else:\n",
    "    print('Delivery Speed column not found in dataset.')"
   ]
  },
  {
   "cell_type": "markdown",
   "metadata": {},
   "source": [
    "## Visual 4: Inventory Turnover (Bar Plot)"
   ]
  },
  {
   "cell_type": "code",
   "execution_count": null,
   "metadata": {},
   "outputs": [],
   "source": [
    "if 'Product Category' in df.columns and 'Inventory Turnover' in df.columns:\n",
    "    turnover = df.groupby('Product Category')['Inventory Turnover'].mean().reset_index()\n",
    "    plt.figure(figsize=(12,6))\n",
    "    sns.barplot(data=turnover, x='Product Category', y='Inventory Turnover', palette=['#232f3e', '#ff9900'])\n",
    "    plt.title('Average Inventory Turnover by Product Category')\n",
    "    plt.xticks(rotation=45)\n",
    "    plt.show()\n",
    "else:\n",
    "    print('Product Category or Inventory Turnover column not found in dataset.')"
   ]
  }
 ],
 "metadata": {
  "kernelspec": {
   "display_name": "Python 3 (ipykernel)",
   "language": "python",
   "name": "python3"
  },
  "language_info": {
   "codemirror_mode": {
    "name": "ipython",
    "version": 3
   },
   "file_extension": ".py",
   "mimetype": "text/x-python",
   "name": "python",
   "nbconvert_exporter": "python",
   "pygments_lexer": "ipython3",
   "version": "3.9.13"
  }
 },
 "nbformat": 4,
 "nbformat_minor": 4
}
